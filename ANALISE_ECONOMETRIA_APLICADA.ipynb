{
  "nbformat": 4,
  "nbformat_minor": 0,
  "metadata": {
    "colab": {
      "provenance": [],
      "include_colab_link": true
    },
    "kernelspec": {
      "name": "python3",
      "display_name": "Python 3"
    },
    "language_info": {
      "name": "python"
    }
  },
  "cells": [
    {
      "cell_type": "markdown",
      "metadata": {
        "id": "view-in-github",
        "colab_type": "text"
      },
      "source": [
        "<a href=\"https://colab.research.google.com/github/rebecabarroso/econometria_aplicada/blob/main/ANALISE_ECONOMETRIA_APLICADA.ipynb\" target=\"_parent\"><img src=\"https://colab.research.google.com/assets/colab-badge.svg\" alt=\"Open In Colab\"/></a>"
      ]
    },
    {
      "cell_type": "markdown",
      "source": [
        "# **Análise de dados em Painel: Modelos Estáticos e Dinâmicos**"
      ],
      "metadata": {
        "id": "uLNpQmYDJwa3"
      }
    },
    {
      "cell_type": "markdown",
      "source": [
        "## Instalando e importando pacotes que virão a ser utilizados na análise."
      ],
      "metadata": {
        "id": "RvQVNY2wKM0q"
      }
    },
    {
      "cell_type": "code",
      "execution_count": null,
      "metadata": {
        "colab": {
          "base_uri": "https://localhost:8080/"
        },
        "id": "V7moaqWIzHZ5",
        "outputId": "445722f8-cff6-4b9f-c666-03d440fc1143",
        "collapsed": true
      },
      "outputs": [
        {
          "output_type": "stream",
          "name": "stdout",
          "text": [
            "Requirement already satisfied: matplotlib in /usr/local/lib/python3.10/dist-packages (3.7.1)\n",
            "Requirement already satisfied: contourpy>=1.0.1 in /usr/local/lib/python3.10/dist-packages (from matplotlib) (1.2.1)\n",
            "Requirement already satisfied: cycler>=0.10 in /usr/local/lib/python3.10/dist-packages (from matplotlib) (0.12.1)\n",
            "Requirement already satisfied: fonttools>=4.22.0 in /usr/local/lib/python3.10/dist-packages (from matplotlib) (4.51.0)\n",
            "Requirement already satisfied: kiwisolver>=1.0.1 in /usr/local/lib/python3.10/dist-packages (from matplotlib) (1.4.5)\n",
            "Requirement already satisfied: numpy>=1.20 in /usr/local/lib/python3.10/dist-packages (from matplotlib) (1.25.2)\n",
            "Requirement already satisfied: packaging>=20.0 in /usr/local/lib/python3.10/dist-packages (from matplotlib) (24.0)\n",
            "Requirement already satisfied: pillow>=6.2.0 in /usr/local/lib/python3.10/dist-packages (from matplotlib) (9.4.0)\n",
            "Requirement already satisfied: pyparsing>=2.3.1 in /usr/local/lib/python3.10/dist-packages (from matplotlib) (3.1.2)\n",
            "Requirement already satisfied: python-dateutil>=2.7 in /usr/local/lib/python3.10/dist-packages (from matplotlib) (2.8.2)\n",
            "Requirement already satisfied: six>=1.5 in /usr/local/lib/python3.10/dist-packages (from python-dateutil>=2.7->matplotlib) (1.16.0)\n",
            "Requirement already satisfied: pandas in /usr/local/lib/python3.10/dist-packages (2.0.3)\n",
            "Requirement already satisfied: statsmodels in /usr/local/lib/python3.10/dist-packages (0.14.2)\n",
            "Collecting linearmodels\n",
            "  Downloading linearmodels-6.0-cp310-cp310-manylinux_2_17_x86_64.manylinux2014_x86_64.whl (1.5 MB)\n",
            "\u001b[2K     \u001b[90m━━━━━━━━━━━━━━━━━━━━━━━━━━━━━━━━━━━━━━━━\u001b[0m \u001b[32m1.5/1.5 MB\u001b[0m \u001b[31m18.0 MB/s\u001b[0m eta \u001b[36m0:00:00\u001b[0m\n",
            "\u001b[?25hRequirement already satisfied: python-dateutil>=2.8.2 in /usr/local/lib/python3.10/dist-packages (from pandas) (2.8.2)\n",
            "Requirement already satisfied: pytz>=2020.1 in /usr/local/lib/python3.10/dist-packages (from pandas) (2023.4)\n",
            "Requirement already satisfied: tzdata>=2022.1 in /usr/local/lib/python3.10/dist-packages (from pandas) (2024.1)\n",
            "Requirement already satisfied: numpy>=1.21.0 in /usr/local/lib/python3.10/dist-packages (from pandas) (1.25.2)\n",
            "Requirement already satisfied: scipy!=1.9.2,>=1.8 in /usr/local/lib/python3.10/dist-packages (from statsmodels) (1.11.4)\n",
            "Requirement already satisfied: patsy>=0.5.6 in /usr/local/lib/python3.10/dist-packages (from statsmodels) (0.5.6)\n",
            "Requirement already satisfied: packaging>=21.3 in /usr/local/lib/python3.10/dist-packages (from statsmodels) (24.0)\n",
            "Collecting mypy-extensions>=0.4 (from linearmodels)\n",
            "  Downloading mypy_extensions-1.0.0-py3-none-any.whl (4.7 kB)\n",
            "Requirement already satisfied: Cython>=3.0.10 in /usr/local/lib/python3.10/dist-packages (from linearmodels) (3.0.10)\n",
            "Collecting pyhdfe>=0.1 (from linearmodels)\n",
            "  Downloading pyhdfe-0.2.0-py3-none-any.whl (19 kB)\n",
            "Collecting formulaic>=1.0.0 (from linearmodels)\n",
            "  Downloading formulaic-1.0.1-py3-none-any.whl (94 kB)\n",
            "\u001b[2K     \u001b[90m━━━━━━━━━━━━━━━━━━━━━━━━━━━━━━━━━━━━━━━━\u001b[0m \u001b[32m94.2/94.2 kB\u001b[0m \u001b[31m10.5 MB/s\u001b[0m eta \u001b[36m0:00:00\u001b[0m\n",
            "\u001b[?25hCollecting setuptools-scm[toml]<9.0.0,>=8.0.0 (from linearmodels)\n",
            "  Downloading setuptools_scm-8.1.0-py3-none-any.whl (43 kB)\n",
            "\u001b[2K     \u001b[90m━━━━━━━━━━━━━━━━━━━━━━━━━━━━━━━━━━━━━━━━\u001b[0m \u001b[32m43.7/43.7 kB\u001b[0m \u001b[31m6.2 MB/s\u001b[0m eta \u001b[36m0:00:00\u001b[0m\n",
            "\u001b[?25hCollecting interface-meta>=1.2.0 (from formulaic>=1.0.0->linearmodels)\n",
            "  Downloading interface_meta-1.3.0-py3-none-any.whl (14 kB)\n",
            "Requirement already satisfied: typing-extensions>=4.2.0 in /usr/local/lib/python3.10/dist-packages (from formulaic>=1.0.0->linearmodels) (4.11.0)\n",
            "Requirement already satisfied: wrapt>=1.0 in /usr/local/lib/python3.10/dist-packages (from formulaic>=1.0.0->linearmodels) (1.14.1)\n",
            "Requirement already satisfied: six in /usr/local/lib/python3.10/dist-packages (from patsy>=0.5.6->statsmodels) (1.16.0)\n",
            "Requirement already satisfied: setuptools in /usr/local/lib/python3.10/dist-packages (from setuptools-scm[toml]<9.0.0,>=8.0.0->linearmodels) (67.7.2)\n",
            "Requirement already satisfied: tomli>=1 in /usr/local/lib/python3.10/dist-packages (from setuptools-scm[toml]<9.0.0,>=8.0.0->linearmodels) (2.0.1)\n",
            "Installing collected packages: setuptools-scm, mypy-extensions, interface-meta, pyhdfe, formulaic, linearmodels\n",
            "Successfully installed formulaic-1.0.1 interface-meta-1.3.0 linearmodels-6.0 mypy-extensions-1.0.0 pyhdfe-0.2.0 setuptools-scm-8.1.0\n"
          ]
        }
      ],
      "source": [
        "# Instalando pacotes.\n",
        "!pip install matplotlib\n",
        "!pip install pandas statsmodels linearmodels"
      ]
    },
    {
      "cell_type": "code",
      "source": [
        "# Chamando bibliotecas.\n",
        "\n",
        "# Pandas realiza alterações e ajustes direto na base da dados.\n",
        "import pandas as pd\n",
        "\n",
        "# Seaborn e matplotlib serão utilizados para gerar gráficos de análise.\n",
        "import seaborn as sns\n",
        "import matplotlib.pyplot as plt\n",
        "\n",
        "# Numpy é um pacote de operações matemáticas.\n",
        "import numpy as np\n",
        "\n",
        "# Linearmodels traz as soluções para realizar as análises de dados em painel.\n",
        "from linearmodels.panel import PanelOLS, RandomEffects, compare\n",
        "from linearmodels.iv import IV2SLS"
      ],
      "metadata": {
        "id": "lS44p_5tGFgt"
      },
      "execution_count": null,
      "outputs": []
    },
    {
      "cell_type": "code",
      "source": [
        "# Ativando a ligação com o google drive para subir a base mais facilmente.\n",
        "from google.colab import drive\n",
        "drive.mount('/content/drive')"
      ],
      "metadata": {
        "colab": {
          "base_uri": "https://localhost:8080/"
        },
        "id": "lmgl75qI_oNj",
        "outputId": "3e5e2d98-d6d7-43eb-b8fe-03405137e5c0",
        "collapsed": true
      },
      "execution_count": null,
      "outputs": [
        {
          "metadata": {
            "tags": null
          },
          "name": "stdout",
          "output_type": "stream",
          "text": [
            "Mounted at /content/drive\n"
          ]
        }
      ]
    },
    {
      "cell_type": "markdown",
      "source": [
        "## Definindo os ajustes iniciais de preparo da base."
      ],
      "metadata": {
        "id": "RHjCg6Y5LjoW"
      }
    },
    {
      "cell_type": "code",
      "source": [
        "# Definindo a base de dados \"dados\" com o arquivo xlsx.\n",
        "dados = pd.read_excel('/content/base de dados.xlsx')"
      ],
      "metadata": {
        "id": "tQCQ1hlm_v9s"
      },
      "execution_count": null,
      "outputs": []
    },
    {
      "cell_type": "code",
      "source": [
        "# Removendo valores nulos, afim de evitar problemas com os dados em painel.\n",
        "dados.dropna(inplace=True)\n",
        "\n",
        "# Describe nos dados para análise descritiva.\n",
        "dados.describe()"
      ],
      "metadata": {
        "colab": {
          "base_uri": "https://localhost:8080/",
          "height": 300
        },
        "id": "0lzYQu-hEdn5",
        "outputId": "a011c844-1593-40dc-b5bf-6a2288b77e7b"
      },
      "execution_count": null,
      "outputs": [
        {
          "output_type": "execute_result",
          "data": {
            "text/plain": [
              "             cod        ano    maes_fam       analf       theil        gini  \\\n",
              "count  204.00000   204.0000  204.000000  204.000000  204.000000  204.000000   \n",
              "mean    51.50000  2005.0000   79.090637   40.712941    0.539020    0.558480   \n",
              "std     29.51588     5.0123   11.105367    8.835575    0.125792    0.066163   \n",
              "min      1.00000  2000.0000   45.620000   12.510000    0.250000    0.410000   \n",
              "25%     26.00000  2000.0000   70.707500   34.377500    0.450000    0.510000   \n",
              "50%     51.50000  2005.0000   79.435000   41.255000    0.520000    0.550000   \n",
              "75%     77.00000  2010.0000   88.182500   47.005000    0.610000    0.600000   \n",
              "max    102.00000  2010.0000  100.000000   57.790000    1.240000    0.820000   \n",
              "\n",
              "             idhm   idhm_educ  ensino_medio       renda  \n",
              "count  204.000000  204.000000    204.000000  204.000000  \n",
              "mean     0.477426    0.322966     11.769608  202.603627  \n",
              "std      0.097580    0.131892      6.625598   86.026286  \n",
              "min      0.281000    0.090000      1.290000   69.200000  \n",
              "25%      0.384750    0.196000      6.652500  140.020000  \n",
              "50%      0.504500    0.347500     10.375000  194.840000  \n",
              "75%      0.563250    0.434250     15.797500  241.447500  \n",
              "max      0.721000    0.635000     43.160000  792.540000  "
            ],
            "text/html": [
              "\n",
              "  <div id=\"df-fd7c598c-0971-4660-899b-02ee18bd8ff1\" class=\"colab-df-container\">\n",
              "    <div>\n",
              "<style scoped>\n",
              "    .dataframe tbody tr th:only-of-type {\n",
              "        vertical-align: middle;\n",
              "    }\n",
              "\n",
              "    .dataframe tbody tr th {\n",
              "        vertical-align: top;\n",
              "    }\n",
              "\n",
              "    .dataframe thead th {\n",
              "        text-align: right;\n",
              "    }\n",
              "</style>\n",
              "<table border=\"1\" class=\"dataframe\">\n",
              "  <thead>\n",
              "    <tr style=\"text-align: right;\">\n",
              "      <th></th>\n",
              "      <th>cod</th>\n",
              "      <th>ano</th>\n",
              "      <th>maes_fam</th>\n",
              "      <th>analf</th>\n",
              "      <th>theil</th>\n",
              "      <th>gini</th>\n",
              "      <th>idhm</th>\n",
              "      <th>idhm_educ</th>\n",
              "      <th>ensino_medio</th>\n",
              "      <th>renda</th>\n",
              "    </tr>\n",
              "  </thead>\n",
              "  <tbody>\n",
              "    <tr>\n",
              "      <th>count</th>\n",
              "      <td>204.00000</td>\n",
              "      <td>204.0000</td>\n",
              "      <td>204.000000</td>\n",
              "      <td>204.000000</td>\n",
              "      <td>204.000000</td>\n",
              "      <td>204.000000</td>\n",
              "      <td>204.000000</td>\n",
              "      <td>204.000000</td>\n",
              "      <td>204.000000</td>\n",
              "      <td>204.000000</td>\n",
              "    </tr>\n",
              "    <tr>\n",
              "      <th>mean</th>\n",
              "      <td>51.50000</td>\n",
              "      <td>2005.0000</td>\n",
              "      <td>79.090637</td>\n",
              "      <td>40.712941</td>\n",
              "      <td>0.539020</td>\n",
              "      <td>0.558480</td>\n",
              "      <td>0.477426</td>\n",
              "      <td>0.322966</td>\n",
              "      <td>11.769608</td>\n",
              "      <td>202.603627</td>\n",
              "    </tr>\n",
              "    <tr>\n",
              "      <th>std</th>\n",
              "      <td>29.51588</td>\n",
              "      <td>5.0123</td>\n",
              "      <td>11.105367</td>\n",
              "      <td>8.835575</td>\n",
              "      <td>0.125792</td>\n",
              "      <td>0.066163</td>\n",
              "      <td>0.097580</td>\n",
              "      <td>0.131892</td>\n",
              "      <td>6.625598</td>\n",
              "      <td>86.026286</td>\n",
              "    </tr>\n",
              "    <tr>\n",
              "      <th>min</th>\n",
              "      <td>1.00000</td>\n",
              "      <td>2000.0000</td>\n",
              "      <td>45.620000</td>\n",
              "      <td>12.510000</td>\n",
              "      <td>0.250000</td>\n",
              "      <td>0.410000</td>\n",
              "      <td>0.281000</td>\n",
              "      <td>0.090000</td>\n",
              "      <td>1.290000</td>\n",
              "      <td>69.200000</td>\n",
              "    </tr>\n",
              "    <tr>\n",
              "      <th>25%</th>\n",
              "      <td>26.00000</td>\n",
              "      <td>2000.0000</td>\n",
              "      <td>70.707500</td>\n",
              "      <td>34.377500</td>\n",
              "      <td>0.450000</td>\n",
              "      <td>0.510000</td>\n",
              "      <td>0.384750</td>\n",
              "      <td>0.196000</td>\n",
              "      <td>6.652500</td>\n",
              "      <td>140.020000</td>\n",
              "    </tr>\n",
              "    <tr>\n",
              "      <th>50%</th>\n",
              "      <td>51.50000</td>\n",
              "      <td>2005.0000</td>\n",
              "      <td>79.435000</td>\n",
              "      <td>41.255000</td>\n",
              "      <td>0.520000</td>\n",
              "      <td>0.550000</td>\n",
              "      <td>0.504500</td>\n",
              "      <td>0.347500</td>\n",
              "      <td>10.375000</td>\n",
              "      <td>194.840000</td>\n",
              "    </tr>\n",
              "    <tr>\n",
              "      <th>75%</th>\n",
              "      <td>77.00000</td>\n",
              "      <td>2010.0000</td>\n",
              "      <td>88.182500</td>\n",
              "      <td>47.005000</td>\n",
              "      <td>0.610000</td>\n",
              "      <td>0.600000</td>\n",
              "      <td>0.563250</td>\n",
              "      <td>0.434250</td>\n",
              "      <td>15.797500</td>\n",
              "      <td>241.447500</td>\n",
              "    </tr>\n",
              "    <tr>\n",
              "      <th>max</th>\n",
              "      <td>102.00000</td>\n",
              "      <td>2010.0000</td>\n",
              "      <td>100.000000</td>\n",
              "      <td>57.790000</td>\n",
              "      <td>1.240000</td>\n",
              "      <td>0.820000</td>\n",
              "      <td>0.721000</td>\n",
              "      <td>0.635000</td>\n",
              "      <td>43.160000</td>\n",
              "      <td>792.540000</td>\n",
              "    </tr>\n",
              "  </tbody>\n",
              "</table>\n",
              "</div>\n",
              "    <div class=\"colab-df-buttons\">\n",
              "\n",
              "  <div class=\"colab-df-container\">\n",
              "    <button class=\"colab-df-convert\" onclick=\"convertToInteractive('df-fd7c598c-0971-4660-899b-02ee18bd8ff1')\"\n",
              "            title=\"Convert this dataframe to an interactive table.\"\n",
              "            style=\"display:none;\">\n",
              "\n",
              "  <svg xmlns=\"http://www.w3.org/2000/svg\" height=\"24px\" viewBox=\"0 -960 960 960\">\n",
              "    <path d=\"M120-120v-720h720v720H120Zm60-500h600v-160H180v160Zm220 220h160v-160H400v160Zm0 220h160v-160H400v160ZM180-400h160v-160H180v160Zm440 0h160v-160H620v160ZM180-180h160v-160H180v160Zm440 0h160v-160H620v160Z\"/>\n",
              "  </svg>\n",
              "    </button>\n",
              "\n",
              "  <style>\n",
              "    .colab-df-container {\n",
              "      display:flex;\n",
              "      gap: 12px;\n",
              "    }\n",
              "\n",
              "    .colab-df-convert {\n",
              "      background-color: #E8F0FE;\n",
              "      border: none;\n",
              "      border-radius: 50%;\n",
              "      cursor: pointer;\n",
              "      display: none;\n",
              "      fill: #1967D2;\n",
              "      height: 32px;\n",
              "      padding: 0 0 0 0;\n",
              "      width: 32px;\n",
              "    }\n",
              "\n",
              "    .colab-df-convert:hover {\n",
              "      background-color: #E2EBFA;\n",
              "      box-shadow: 0px 1px 2px rgba(60, 64, 67, 0.3), 0px 1px 3px 1px rgba(60, 64, 67, 0.15);\n",
              "      fill: #174EA6;\n",
              "    }\n",
              "\n",
              "    .colab-df-buttons div {\n",
              "      margin-bottom: 4px;\n",
              "    }\n",
              "\n",
              "    [theme=dark] .colab-df-convert {\n",
              "      background-color: #3B4455;\n",
              "      fill: #D2E3FC;\n",
              "    }\n",
              "\n",
              "    [theme=dark] .colab-df-convert:hover {\n",
              "      background-color: #434B5C;\n",
              "      box-shadow: 0px 1px 3px 1px rgba(0, 0, 0, 0.15);\n",
              "      filter: drop-shadow(0px 1px 2px rgba(0, 0, 0, 0.3));\n",
              "      fill: #FFFFFF;\n",
              "    }\n",
              "  </style>\n",
              "\n",
              "    <script>\n",
              "      const buttonEl =\n",
              "        document.querySelector('#df-fd7c598c-0971-4660-899b-02ee18bd8ff1 button.colab-df-convert');\n",
              "      buttonEl.style.display =\n",
              "        google.colab.kernel.accessAllowed ? 'block' : 'none';\n",
              "\n",
              "      async function convertToInteractive(key) {\n",
              "        const element = document.querySelector('#df-fd7c598c-0971-4660-899b-02ee18bd8ff1');\n",
              "        const dataTable =\n",
              "          await google.colab.kernel.invokeFunction('convertToInteractive',\n",
              "                                                    [key], {});\n",
              "        if (!dataTable) return;\n",
              "\n",
              "        const docLinkHtml = 'Like what you see? Visit the ' +\n",
              "          '<a target=\"_blank\" href=https://colab.research.google.com/notebooks/data_table.ipynb>data table notebook</a>'\n",
              "          + ' to learn more about interactive tables.';\n",
              "        element.innerHTML = '';\n",
              "        dataTable['output_type'] = 'display_data';\n",
              "        await google.colab.output.renderOutput(dataTable, element);\n",
              "        const docLink = document.createElement('div');\n",
              "        docLink.innerHTML = docLinkHtml;\n",
              "        element.appendChild(docLink);\n",
              "      }\n",
              "    </script>\n",
              "  </div>\n",
              "\n",
              "\n",
              "<div id=\"df-8e313a45-a626-4b40-b781-94bc8748b5e7\">\n",
              "  <button class=\"colab-df-quickchart\" onclick=\"quickchart('df-8e313a45-a626-4b40-b781-94bc8748b5e7')\"\n",
              "            title=\"Suggest charts\"\n",
              "            style=\"display:none;\">\n",
              "\n",
              "<svg xmlns=\"http://www.w3.org/2000/svg\" height=\"24px\"viewBox=\"0 0 24 24\"\n",
              "     width=\"24px\">\n",
              "    <g>\n",
              "        <path d=\"M19 3H5c-1.1 0-2 .9-2 2v14c0 1.1.9 2 2 2h14c1.1 0 2-.9 2-2V5c0-1.1-.9-2-2-2zM9 17H7v-7h2v7zm4 0h-2V7h2v10zm4 0h-2v-4h2v4z\"/>\n",
              "    </g>\n",
              "</svg>\n",
              "  </button>\n",
              "\n",
              "<style>\n",
              "  .colab-df-quickchart {\n",
              "      --bg-color: #E8F0FE;\n",
              "      --fill-color: #1967D2;\n",
              "      --hover-bg-color: #E2EBFA;\n",
              "      --hover-fill-color: #174EA6;\n",
              "      --disabled-fill-color: #AAA;\n",
              "      --disabled-bg-color: #DDD;\n",
              "  }\n",
              "\n",
              "  [theme=dark] .colab-df-quickchart {\n",
              "      --bg-color: #3B4455;\n",
              "      --fill-color: #D2E3FC;\n",
              "      --hover-bg-color: #434B5C;\n",
              "      --hover-fill-color: #FFFFFF;\n",
              "      --disabled-bg-color: #3B4455;\n",
              "      --disabled-fill-color: #666;\n",
              "  }\n",
              "\n",
              "  .colab-df-quickchart {\n",
              "    background-color: var(--bg-color);\n",
              "    border: none;\n",
              "    border-radius: 50%;\n",
              "    cursor: pointer;\n",
              "    display: none;\n",
              "    fill: var(--fill-color);\n",
              "    height: 32px;\n",
              "    padding: 0;\n",
              "    width: 32px;\n",
              "  }\n",
              "\n",
              "  .colab-df-quickchart:hover {\n",
              "    background-color: var(--hover-bg-color);\n",
              "    box-shadow: 0 1px 2px rgba(60, 64, 67, 0.3), 0 1px 3px 1px rgba(60, 64, 67, 0.15);\n",
              "    fill: var(--button-hover-fill-color);\n",
              "  }\n",
              "\n",
              "  .colab-df-quickchart-complete:disabled,\n",
              "  .colab-df-quickchart-complete:disabled:hover {\n",
              "    background-color: var(--disabled-bg-color);\n",
              "    fill: var(--disabled-fill-color);\n",
              "    box-shadow: none;\n",
              "  }\n",
              "\n",
              "  .colab-df-spinner {\n",
              "    border: 2px solid var(--fill-color);\n",
              "    border-color: transparent;\n",
              "    border-bottom-color: var(--fill-color);\n",
              "    animation:\n",
              "      spin 1s steps(1) infinite;\n",
              "  }\n",
              "\n",
              "  @keyframes spin {\n",
              "    0% {\n",
              "      border-color: transparent;\n",
              "      border-bottom-color: var(--fill-color);\n",
              "      border-left-color: var(--fill-color);\n",
              "    }\n",
              "    20% {\n",
              "      border-color: transparent;\n",
              "      border-left-color: var(--fill-color);\n",
              "      border-top-color: var(--fill-color);\n",
              "    }\n",
              "    30% {\n",
              "      border-color: transparent;\n",
              "      border-left-color: var(--fill-color);\n",
              "      border-top-color: var(--fill-color);\n",
              "      border-right-color: var(--fill-color);\n",
              "    }\n",
              "    40% {\n",
              "      border-color: transparent;\n",
              "      border-right-color: var(--fill-color);\n",
              "      border-top-color: var(--fill-color);\n",
              "    }\n",
              "    60% {\n",
              "      border-color: transparent;\n",
              "      border-right-color: var(--fill-color);\n",
              "    }\n",
              "    80% {\n",
              "      border-color: transparent;\n",
              "      border-right-color: var(--fill-color);\n",
              "      border-bottom-color: var(--fill-color);\n",
              "    }\n",
              "    90% {\n",
              "      border-color: transparent;\n",
              "      border-bottom-color: var(--fill-color);\n",
              "    }\n",
              "  }\n",
              "</style>\n",
              "\n",
              "  <script>\n",
              "    async function quickchart(key) {\n",
              "      const quickchartButtonEl =\n",
              "        document.querySelector('#' + key + ' button');\n",
              "      quickchartButtonEl.disabled = true;  // To prevent multiple clicks.\n",
              "      quickchartButtonEl.classList.add('colab-df-spinner');\n",
              "      try {\n",
              "        const charts = await google.colab.kernel.invokeFunction(\n",
              "            'suggestCharts', [key], {});\n",
              "      } catch (error) {\n",
              "        console.error('Error during call to suggestCharts:', error);\n",
              "      }\n",
              "      quickchartButtonEl.classList.remove('colab-df-spinner');\n",
              "      quickchartButtonEl.classList.add('colab-df-quickchart-complete');\n",
              "    }\n",
              "    (() => {\n",
              "      let quickchartButtonEl =\n",
              "        document.querySelector('#df-8e313a45-a626-4b40-b781-94bc8748b5e7 button');\n",
              "      quickchartButtonEl.style.display =\n",
              "        google.colab.kernel.accessAllowed ? 'block' : 'none';\n",
              "    })();\n",
              "  </script>\n",
              "</div>\n",
              "    </div>\n",
              "  </div>\n"
            ],
            "application/vnd.google.colaboratory.intrinsic+json": {
              "type": "dataframe",
              "summary": "{\n  \"name\": \"dados\",\n  \"rows\": 8,\n  \"fields\": [\n    {\n      \"column\": \"cod\",\n      \"properties\": {\n        \"dtype\": \"number\",\n        \"std\": 63.25825992342175,\n        \"min\": 1.0,\n        \"max\": 204.0,\n        \"num_unique_values\": 7,\n        \"samples\": [\n          204.0,\n          51.5,\n          77.0\n        ],\n        \"semantic_type\": \"\",\n        \"description\": \"\"\n      }\n    },\n    {\n      \"column\": \"ano\",\n      \"properties\": {\n        \"dtype\": \"number\",\n        \"std\": 881.371768711833,\n        \"min\": 5.0123001415876525,\n        \"max\": 2010.0,\n        \"num_unique_values\": 5,\n        \"samples\": [\n          2005.0,\n          2010.0,\n          5.0123001415876525\n        ],\n        \"semantic_type\": \"\",\n        \"description\": \"\"\n      }\n    },\n    {\n      \"column\": \"maes_fam\",\n      \"properties\": {\n        \"dtype\": \"number\",\n        \"std\": 55.64820995229747,\n        \"min\": 11.105366744410844,\n        \"max\": 204.0,\n        \"num_unique_values\": 8,\n        \"samples\": [\n          79.09063725490195,\n          79.435,\n          204.0\n        ],\n        \"semantic_type\": \"\",\n        \"description\": \"\"\n      }\n    },\n    {\n      \"column\": \"analf\",\n      \"properties\": {\n        \"dtype\": \"number\",\n        \"std\": 62.131579680597774,\n        \"min\": 8.835575379797811,\n        \"max\": 204.0,\n        \"num_unique_values\": 8,\n        \"samples\": [\n          40.71294117647059,\n          41.254999999999995,\n          204.0\n        ],\n        \"semantic_type\": \"\",\n        \"description\": \"\"\n      }\n    },\n    {\n      \"column\": \"theil\",\n      \"properties\": {\n        \"dtype\": \"number\",\n        \"std\": 71.93700861951474,\n        \"min\": 0.12579214855573895,\n        \"max\": 204.0,\n        \"num_unique_values\": 8,\n        \"samples\": [\n          0.5390196078431372,\n          0.52,\n          204.0\n        ],\n        \"semantic_type\": \"\",\n        \"description\": \"\"\n      }\n    },\n    {\n      \"column\": \"gini\",\n      \"properties\": {\n        \"dtype\": \"number\",\n        \"std\": 71.94768784000475,\n        \"min\": 0.06616254508601711,\n        \"max\": 204.0,\n        \"num_unique_values\": 8,\n        \"samples\": [\n          0.5584803921568627,\n          0.55,\n          204.0\n        ],\n        \"semantic_type\": \"\",\n        \"description\": \"\"\n      }\n    },\n    {\n      \"column\": \"idhm\",\n      \"properties\": {\n        \"dtype\": \"number\",\n        \"std\": 71.97212156463533,\n        \"min\": 0.09758032934545066,\n        \"max\": 204.0,\n        \"num_unique_values\": 8,\n        \"samples\": [\n          0.47742647058823534,\n          0.5045,\n          204.0\n        ],\n        \"semantic_type\": \"\",\n        \"description\": \"\"\n      }\n    },\n    {\n      \"column\": \"idhm_educ\",\n      \"properties\": {\n        \"dtype\": \"number\",\n        \"std\": 72.01612998735092,\n        \"min\": 0.09,\n        \"max\": 204.0,\n        \"num_unique_values\": 8,\n        \"samples\": [\n          0.3229656862745099,\n          0.3475,\n          204.0\n        ],\n        \"semantic_type\": \"\",\n        \"description\": \"\"\n      }\n    },\n    {\n      \"column\": \"ensino_medio\",\n      \"properties\": {\n        \"dtype\": \"number\",\n        \"std\": 68.49301351235292,\n        \"min\": 1.29,\n        \"max\": 204.0,\n        \"num_unique_values\": 8,\n        \"samples\": [\n          11.769607843137255,\n          10.375,\n          204.0\n        ],\n        \"semantic_type\": \"\",\n        \"description\": \"\"\n      }\n    },\n    {\n      \"column\": \"renda\",\n      \"properties\": {\n        \"dtype\": \"number\",\n        \"std\": 230.80565582382567,\n        \"min\": 69.2,\n        \"max\": 792.54,\n        \"num_unique_values\": 8,\n        \"samples\": [\n          202.60362745098035,\n          194.84,\n          204.0\n        ],\n        \"semantic_type\": \"\",\n        \"description\": \"\"\n      }\n    }\n  ]\n}"
            }
          },
          "metadata": {},
          "execution_count": 5
        }
      ]
    },
    {
      "cell_type": "code",
      "source": [
        "# Para as análises de dados em painel, precisamos definir o index as duas variáveis que serão analisadas ao longo do tempo.\n",
        "# Basicamente, as variáveis não estarão mais presentes na base como variável.\n",
        "dados.set_index(['mun', 'ano'], inplace=True)"
      ],
      "metadata": {
        "id": "x9HpYDV4O_68"
      },
      "execution_count": null,
      "outputs": []
    },
    {
      "cell_type": "markdown",
      "source": [
        "# **Modelos Estáticos**\n",
        "### Capturam a relação contemporânea entre as variáveis, assumindo que os efeitos das variáveis explicativas sobre a variável dependente são instantâneos e não se alteram ao longo do tempo."
      ],
      "metadata": {
        "id": "4EeodF9tenQf"
      }
    },
    {
      "cell_type": "markdown",
      "source": [
        "## Modelo de efeitos fixos\n",
        "### Observa todas as diferenças não observadas e constantes de cada unidade individual ao longo do tempo."
      ],
      "metadata": {
        "id": "zv2g33jWPxwT"
      }
    },
    {
      "cell_type": "code",
      "source": [
        "# mod_ef define a chamada do modelo de efeitos fixos, utilizando a classe PanelOLS;\n",
        "# \"from_formula\" é um método utilizado para especificar o modelo usando uma fórmula no estilo patsy (mais conveniente);\n",
        "# a primeira variável do modelo será a dependente, o ~ 1 define um intercepto (constante), as demais variáveis são as independentes; e\n",
        "# EntityEffects é um instrução do pacote para incluir efeitos fixos de entidade no modelo.\n",
        "mod_ef = PanelOLS.from_formula('maes_fam ~ 1 + analf + theil + gini + idhm + idhm_educ + ensino_medio + renda + EntityEffects', data=dados, check_rank=False)\n",
        "\n",
        "# .fit realiza o ajuste do modelo aos dados.\n",
        "res_ef = mod_ef.fit()\n",
        "\n",
        "# Print do texto e print do sumário rodando o res_ef.\n",
        "print(\"\\nResultados do modelo de Efeitos Fixos:\")\n",
        "print(res_ef.summary)"
      ],
      "metadata": {
        "colab": {
          "base_uri": "https://localhost:8080/"
        },
        "id": "RDmIWYghX2Ga",
        "outputId": "15c23663-709e-470c-da8a-aaffa5161867"
      },
      "execution_count": null,
      "outputs": [
        {
          "output_type": "stream",
          "name": "stdout",
          "text": [
            "\n",
            "Resultados do modelo de Efeitos Fixos:\n",
            "                          PanelOLS Estimation Summary                           \n",
            "================================================================================\n",
            "Dep. Variable:               maes_fam   R-squared:                        0.7029\n",
            "Estimator:                   PanelOLS   R-squared (Between):              0.6392\n",
            "No. Observations:                 204   R-squared (Within):               0.7029\n",
            "Date:                Fri, May 31 2024   R-squared (Overall):              0.6775\n",
            "Time:                        16:26:09   Log-likelihood                   -604.36\n",
            "Cov. Estimator:            Unadjusted                                           \n",
            "                                        F-statistic:                      32.115\n",
            "Entities:                         102   P-value                           0.0000\n",
            "Avg Obs:                       2.0000   Distribution:                    F(7,95)\n",
            "Min Obs:                       2.0000                                           \n",
            "Max Obs:                       2.0000   F-statistic (robust):             32.115\n",
            "                                        P-value                           0.0000\n",
            "Time periods:                       2   Distribution:                    F(7,95)\n",
            "Avg Obs:                       102.00                                           \n",
            "Min Obs:                       102.00                                           \n",
            "Max Obs:                       102.00                                           \n",
            "                                                                                \n",
            "                              Parameter Estimates                               \n",
            "================================================================================\n",
            "              Parameter  Std. Err.     T-stat    P-value    Lower CI    Upper CI\n",
            "--------------------------------------------------------------------------------\n",
            "Intercept        112.25     39.894     2.8138     0.0060      33.054      191.45\n",
            "analf           -0.1092     0.4115    -0.2655     0.7912     -0.9262      0.7077\n",
            "theil           -9.3325     14.161    -0.6590     0.5115     -37.445      18.780\n",
            "gini             20.700     31.385     0.6595     0.5111     -41.607      83.007\n",
            "idhm            -69.027     93.199    -0.7406     0.4607     -254.05      116.00\n",
            "idhm_educ        26.676     68.698     0.3883     0.6987     -109.71      163.06\n",
            "ensino_medio    -1.0140     0.5956    -1.7026     0.0919     -2.1964      0.1683\n",
            "renda            0.0051     0.0366     0.1387     0.8900     -0.0676      0.0777\n",
            "================================================================================\n",
            "\n",
            "F-test for Poolability: 0.6905\n",
            "P-value: 0.9662\n",
            "Distribution: F(101,95)\n",
            "\n",
            "Included effects: Entity\n"
          ]
        }
      ]
    },
    {
      "cell_type": "markdown",
      "source": [
        "## Modelo de efeitos aleatórios\n",
        "### Permite que os efeitos individuais sejam aleatórios, o que significa que eles são amostrados de uma distribuição específica."
      ],
      "metadata": {
        "id": "ECNAOtnFQ-dJ"
      }
    },
    {
      "cell_type": "code",
      "source": [
        "# Funções com a mesma lógica das realizadas no modelo anterior, mudando apenas o \"RandomEffects\", efeitos aleatórios.\n",
        "mod_ea = RandomEffects.from_formula('maes_fam ~ 1 + analf + theil + gini + idhm + idhm_educ + ensino_medio + renda', data=dados)\n",
        "res_ea = mod_ea.fit()\n",
        "print(\"\\nResultados do modelo de Efeitos Aleatórios:\")\n",
        "print(res_ea.summary)"
      ],
      "metadata": {
        "colab": {
          "base_uri": "https://localhost:8080/"
        },
        "id": "xhip9oV2egOg",
        "outputId": "a9a1eb48-29be-4cf2-e91e-46d9878d9b69"
      },
      "execution_count": null,
      "outputs": [
        {
          "output_type": "stream",
          "name": "stdout",
          "text": [
            "\n",
            "Resultados do modelo de Efeitos Aleatórios:\n",
            "                        RandomEffects Estimation Summary                        \n",
            "================================================================================\n",
            "Dep. Variable:               maes_fam   R-squared:                        0.6903\n",
            "Estimator:              RandomEffects   R-squared (Between):              0.6786\n",
            "No. Observations:                 204   R-squared (Within):               0.6981\n",
            "Date:                Fri, May 31 2024   R-squared (Overall):              0.6903\n",
            "Time:                        16:26:14   Log-likelihood                   -660.51\n",
            "Cov. Estimator:            Unadjusted                                           \n",
            "                                        F-statistic:                      62.415\n",
            "Entities:                         102   P-value                           0.0000\n",
            "Avg Obs:                       2.0000   Distribution:                   F(7,196)\n",
            "Min Obs:                       2.0000                                           \n",
            "Max Obs:                       2.0000   F-statistic (robust):             62.415\n",
            "                                        P-value                           0.0000\n",
            "Time periods:                       2   Distribution:                   F(7,196)\n",
            "Avg Obs:                       102.00                                           \n",
            "Min Obs:                       102.00                                           \n",
            "Max Obs:                       102.00                                           \n",
            "                                                                                \n",
            "                              Parameter Estimates                               \n",
            "================================================================================\n",
            "              Parameter  Std. Err.     T-stat    P-value    Lower CI    Upper CI\n",
            "--------------------------------------------------------------------------------\n",
            "Intercept        102.93     16.941     6.0758     0.0000      69.521      136.34\n",
            "analf            0.1468     0.1295     1.1337     0.2583     -0.1086      0.4022\n",
            "theil           -0.4891     9.0214    -0.0542     0.9568     -18.281      17.302\n",
            "gini            -0.4321     18.435    -0.0234     0.9813     -36.788      35.924\n",
            "idhm            -61.974     44.074    -1.4061     0.1613     -148.89      24.946\n",
            "idhm_educ        25.688     30.118     0.8529     0.3948     -33.710      85.085\n",
            "ensino_medio    -1.1240     0.2606    -4.3125     0.0000     -1.6381     -0.6100\n",
            "renda            0.0257     0.0142     1.8047     0.0727     -0.0024      0.0538\n",
            "================================================================================\n"
          ]
        }
      ]
    },
    {
      "cell_type": "markdown",
      "source": [
        "# **Modelos dinâmicos**\n",
        "### Capturam a dependência temporal e os efeitos persistentes, modelando a dinâmica das variáveis ao longo do tempo.\n"
      ],
      "metadata": {
        "id": "ZuGIUFHVRkXB"
      }
    },
    {
      "cell_type": "markdown",
      "source": [
        "### GMM pode ser utilizado quando se deseja estimar um modelo parcialmente especificado."
      ],
      "metadata": {
        "id": "UAhtaJhiRrQK"
      }
    },
    {
      "cell_type": "code",
      "source": [
        "# Modelos Dinâmicos usando GMM\n",
        "\n",
        "# Retirar novamente os valores nulos, por precaução.\n",
        "dados.dropna(inplace=True)\n",
        "\n",
        "# A operação shift(1) cria uma versão defasada da variável maes_fam, chamada maes_fam_l1\n",
        "# Com objetivo de capturar dependências temporais, modelar persistência e efeitos dinâmicos.\n",
        "dados['maes_fam_l1'] = dados['maes_fam'].shift(1)\n",
        "\n",
        "# Definindo as variáveis e rodando o modelo com a mesma lógica realizada anteriormente.\n",
        "formula = 'maes_fam ~ 1 + maes_fam_l1 + analf + theil + gini + idhm + idhm_educ + ensino_medio + renda'\n",
        "mod_gmm = IV2SLS.from_formula(formula, data=dados)\n",
        "res_gmm = mod_gmm.fit()\n",
        "print(\"\\nResultados do modelo Dinâmico usando GMM:\")\n",
        "print(res_gmm.summary)"
      ],
      "metadata": {
        "id": "Jo_BcdbZmnH9",
        "colab": {
          "base_uri": "https://localhost:8080/"
        },
        "outputId": "4cad3aa5-ef50-45d1-f915-888f250904aa"
      },
      "execution_count": null,
      "outputs": [
        {
          "output_type": "stream",
          "name": "stdout",
          "text": [
            "\n",
            "Resultados do modelo Dinâmico usando GMM:\n",
            "                            OLS Estimation Summary                            \n",
            "==============================================================================\n",
            "Dep. Variable:               maes_fam   R-squared:                      0.7035\n",
            "Estimator:                        OLS   Adj. R-squared:                 0.6912\n",
            "No. Observations:                 203   F-statistic:                    678.30\n",
            "Date:                Fri, May 31 2024   P-value (F-stat)                0.0000\n",
            "Time:                        16:26:19   Distribution:                  chi2(8)\n",
            "Cov. Estimator:                robust                                         \n",
            "                                                                              \n",
            "                              Parameter Estimates                               \n",
            "================================================================================\n",
            "              Parameter  Std. Err.     T-stat    P-value    Lower CI    Upper CI\n",
            "--------------------------------------------------------------------------------\n",
            "Intercept        99.039     16.689     5.9344     0.0000      66.330      131.75\n",
            "maes_fam_l1      0.0377     0.0477     0.7890     0.4301     -0.0559      0.1313\n",
            "analf            0.1392     0.1454     0.9573     0.3384     -0.1458      0.4242\n",
            "theil            0.7753     6.9358     0.1118     0.9110     -12.819      14.369\n",
            "gini            -0.7218     17.575    -0.0411     0.9672     -35.168      33.725\n",
            "idhm            -58.496     38.785    -1.5082     0.1315     -134.51      17.521\n",
            "idhm_educ        24.243     27.870     0.8699     0.3844     -30.381      78.868\n",
            "ensino_medio    -1.0912     0.2555    -4.2705     0.0000     -1.5920     -0.5904\n",
            "renda            0.0218     0.0117     1.8695     0.0616     -0.0011      0.0447\n",
            "================================================================================\n"
          ]
        },
        {
          "output_type": "stream",
          "name": "stderr",
          "text": [
            "/usr/local/lib/python3.10/dist-packages/linearmodels/iv/model.py:550: MissingValueWarning: \n",
            "Inputs contain missing values. Dropping rows with missing observations.\n",
            "  super().__init__(\n"
          ]
        }
      ]
    },
    {
      "cell_type": "markdown",
      "source": [
        "# **Teste de Hausman**\n",
        "### Verifica se os coeficientes dos dois modelos se diferem de forma significativa. Se eles forem significativamente diferentes, devemos escolher o modelo de efeitos fixos."
      ],
      "metadata": {
        "id": "CxLOtnAXVVp5"
      }
    },
    {
      "cell_type": "code",
      "source": [
        "# Compare é a função da biblioteca que faz a comparação dos dois modelos rodados anteriormente.\n",
        "comparison = compare({'Efeitos Fixos': res_ef, 'Efeitos Aleatórios': res_ea})\n",
        "print(\"\\nTeste de Hausman:\")\n",
        "print(comparison)"
      ],
      "metadata": {
        "colab": {
          "base_uri": "https://localhost:8080/"
        },
        "id": "lKmqJZcafFEi",
        "outputId": "631c266f-f6a0-44b8-fc19-0c5e1bb1a895"
      },
      "execution_count": null,
      "outputs": [
        {
          "output_type": "stream",
          "name": "stdout",
          "text": [
            "\n",
            "Teste de Hausman:\n",
            "                     Model Comparison                    \n",
            "=========================================================\n",
            "                         Efeitos Fixos Efeitos Aleatórios\n",
            "---------------------------------------------------------\n",
            "Dep. Variable                 maes_fam           maes_fam\n",
            "Estimator                     PanelOLS      RandomEffects\n",
            "No. Observations                   204                204\n",
            "Cov. Est.                   Unadjusted         Unadjusted\n",
            "R-squared                       0.7029             0.6903\n",
            "R-Squared (Within)              0.7029             0.6981\n",
            "R-Squared (Between)             0.6392             0.6786\n",
            "R-Squared (Overall)             0.6775             0.6903\n",
            "F-statistic                     32.115             62.415\n",
            "P-value (F-stat)                0.0000             0.0000\n",
            "=====================     ============    ===============\n",
            "Intercept                       112.25             102.93\n",
            "                              (2.8138)           (6.0758)\n",
            "analf                          -0.1092             0.1468\n",
            "                             (-0.2655)           (1.1337)\n",
            "theil                          -9.3325            -0.4891\n",
            "                             (-0.6590)          (-0.0542)\n",
            "gini                            20.700            -0.4321\n",
            "                              (0.6595)          (-0.0234)\n",
            "idhm                           -69.027            -61.974\n",
            "                             (-0.7406)          (-1.4061)\n",
            "idhm_educ                       26.676             25.688\n",
            "                              (0.3883)           (0.8529)\n",
            "ensino_medio                   -1.0140            -1.1240\n",
            "                             (-1.7026)          (-4.3125)\n",
            "renda                           0.0051             0.0257\n",
            "                              (0.1387)           (1.8047)\n",
            "======================= ==============  =================\n",
            "Effects                         Entity                   \n",
            "---------------------------------------------------------\n",
            "\n",
            "T-stats reported in parentheses\n"
          ]
        }
      ]
    }
  ]
}